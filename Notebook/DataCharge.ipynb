{
 "cells": [
  {
   "cell_type": "markdown",
   "metadata": {},
   "source": [
    "## Imports and constants"
   ]
  },
  {
   "cell_type": "code",
   "execution_count": 1,
   "metadata": {},
   "outputs": [],
   "source": [
    "import os\n",
    "import re\n",
    "import subprocess\n",
    "import json\n",
    "import requests\n",
    "import time\n",
    "import pymongo\n",
    "from datetime import datetime"
   ]
  },
  {
   "cell_type": "code",
   "execution_count": 2,
   "metadata": {},
   "outputs": [],
   "source": [
    "with open('config.json', 'r') as file:\n",
    "    config = json.load(file)\n",
    "\n",
    "api_key_nist = config['api_key_nist']\n",
    "api_key_cvedetails = config['api_key_cvedetails']\n",
    "mongo_uri = config['mongo_uri']\n",
    "mongo_vulns_key = config['mongo_vulns_key']\n",
    "mongo_vulns_url = config['mongo_vulns_url']"
   ]
  },
  {
   "cell_type": "code",
   "execution_count": 3,
   "metadata": {},
   "outputs": [],
   "source": [
    "client = pymongo.MongoClient(mongo_uri)\n",
    "    \n",
    "# Select the database\n",
    "db = client[\"FinalProject\"]\n",
    "\n",
    "# Collection for store software data\n",
    "softwares_clt = db[\"Softwares\"]"
   ]
  },
  {
   "cell_type": "markdown",
   "metadata": {},
   "source": [
    "## Functions"
   ]
  },
  {
   "cell_type": "code",
   "execution_count": 4,
   "metadata": {},
   "outputs": [],
   "source": [
    "def restructure_cvss_metrics(infoVulnJSON, metricVersion):\n",
    "    \"\"\"\n",
    "    Store in a JSON (cvssMetricInfo) the organized data about cvss metrics\n",
    "    \n",
    "    Args: \n",
    "        infoVulnJSON: JSON with data still unorganized \n",
    "        metricVersion: especifies the cvss version which was calculated the metrics\n",
    "\n",
    "    Returns:\n",
    "        JSON: organized data about cvss metrics which contains:\n",
    "            baseSeverity - baseScore - vertorString and its details - exploitabilityScore - impactScore - type - version cvss Metrics\n",
    "    \"\"\"\n",
    "    cvssMetricInfo = {}\n",
    "    cvssMetricInfo['baseScore'] = infoVulnJSON[0]['cvssData']['baseScore']\n",
    "    # Depends cvss version used for metrics the baseSeverity is in diferent JSON's place\n",
    "    if metricVersion == 31 or metricVersion == 30:\n",
    "        cvssMetricInfo['baseSeverity'] = infoVulnJSON[0]['cvssData']['baseSeverity']\n",
    "    else:\n",
    "        cvssMetricInfo['baseSeverity'] = infoVulnJSON[0]['baseSeverity']\n",
    "    # Remaining cvss metrics is equally located in any version\n",
    "    cvssMetricInfo['exploitabilityScore'] = infoVulnJSON[0]['exploitabilityScore']\n",
    "    cvssMetricInfo['impactScore'] = infoVulnJSON[0]['impactScore']\n",
    "    cvssMetricInfo['type'] = infoVulnJSON[0]['type']\n",
    "    cvssMetricInfo['cvssDetailedData'] = infoVulnJSON[0]['cvssData']\n",
    "    # Deleting repeated info\n",
    "    del cvssMetricInfo['cvssDetailedData']['baseScore']\n",
    "    if metricVersion == 31 or metricVersion == 30:\n",
    "        del cvssMetricInfo['cvssDetailedData']['baseSeverity']\n",
    "    # Return final restructured JSON\n",
    "    return cvssMetricInfo"
   ]
  },
  {
   "cell_type": "code",
   "execution_count": 5,
   "metadata": {},
   "outputs": [],
   "source": [
    "def get_vulnerability_info(vulnId):\n",
    "    \"\"\"\n",
    "    Obtain the info provided by services.nvd.nist.gov about the vulnerability, then store the relevant info in a JSON\n",
    "    \n",
    "    Args: \n",
    "        vulnId: That's the vulnerability identifier for the endpoint request.\n",
    "\n",
    "    Returns:\n",
    "        vulnInfo: JSON that contains relevant info about the vulnerability.\n",
    "    \"\"\"\n",
    "    print('VulnName a pasar = '+ vulnId) \n",
    "    endPoint = f'https://services.nvd.nist.gov/rest/json/cves/2.0?cveId={vulnId}'\n",
    "    headers = {\n",
    "        'apiKey': api_key_nist\n",
    "    }\n",
    "    infoVuln = requests.get(endPoint,headers = headers)\n",
    "    try:\n",
    "        infoVulnJSON = infoVuln.json()\n",
    "    except ValueError:\n",
    "        print('Error, respuesta recibida fue: ')\n",
    "        print(infoVuln.json())\n",
    "        return\n",
    "    infoVulnJSON = infoVulnJSON['vulnerabilities'][0]['cve']\n",
    "    cvssMetricInfo = {}\n",
    "    if 'cvssMetricV31' in infoVulnJSON['metrics']:\n",
    "        cvssMetricInfo = restructure_cvss_metrics(infoVulnJSON['metrics']['cvssMetricV31'],31)\n",
    "    elif 'cvssMetricV30' in infoVulnJSON['metrics']:\n",
    "        cvssMetricInfo = restructure_cvss_metrics(infoVulnJSON['metrics']['cvssMetricV30'],30)\n",
    "    elif 'cvssMetricV2' in infoVulnJSON['metrics']:\n",
    "        cvssMetricInfo = restructure_cvss_metrics(infoVulnJSON['metrics']['cvssMetricV2'],2)\n",
    "    \n",
    "    vulnInfo = {\n",
    "        \"CVE_ID\": vulnId,\n",
    "        \"description\": infoVulnJSON['descriptions'][0]['value'],\n",
    "        \"vulnStatus\": infoVulnJSON['vulnStatus'],\n",
    "        \"metrics\": cvssMetricInfo,\n",
    "    }\n",
    "    return vulnInfo"
   ]
  },
  {
   "cell_type": "code",
   "execution_count": 6,
   "metadata": {},
   "outputs": [],
   "source": [
    "#Finish\n",
    "def get_cve_per_software(productName):\n",
    "    url = f\"https://www.cvedetails.com/api/v1/vulnerability/search?outputFormat=json&productName={productName}&pageNumber=1&resultsPerPage=20\"\n",
    "    \n",
    "    headers = {\n",
    "      'user-agent': 'Mozilla/5.0 (X11; Linux x86_64) AppleWebKit/537.36 (KHTML, like Gecko) Chrome/122.0.0.0 Safari/537.36 Edg/122.0.0.0',\n",
    "      'Authorization': f'Bearer {api_key_cvedetails}'\n",
    "    }\n",
    "    tryRequest = True\n",
    "    while(tryRequest):   \n",
    "        session = requests.Session()\n",
    "        response = session.get(url, headers=headers)\n",
    "        responseJSON = response.json()\n",
    "        if \"errors\" in responseJSON:\n",
    "            print(\"time exceded waiting 1 minute\")\n",
    "            time.sleep(60)\n",
    "        else:\n",
    "            print(\"cveList request of \" + productName + \" done\")\n",
    "            tryRequest = False\n",
    "    cveList = []\n",
    "    if len(responseJSON['results']) < 1:\n",
    "        return \"No vulnerabilities registered\"\n",
    "    for cve in responseJSON['results']:\n",
    "        cveInfo = get_vulnerability_info(cve['cveId'])\n",
    "        cveAttackDetails = {k:v for k, v in cve.items() if k.startswith('is')}\n",
    "        cveInfo['AttackDetails'] = cveAttackDetails\n",
    "        cveList.append(cveInfo)\n",
    "\n",
    "    # Create the \n",
    "    cveIDList = [cve['CVE_ID'] for cve in cveList]\n",
    "\n",
    "    return cveList"
   ]
  },
  {
   "cell_type": "code",
   "execution_count": 7,
   "metadata": {},
   "outputs": [],
   "source": [
    "def filter_vulns_data(data):\n",
    "    print(json.dumps(data,indent=4))"
   ]
  },
  {
   "cell_type": "code",
   "execution_count": 8,
   "metadata": {},
   "outputs": [],
   "source": [
    "def get_data_filtered():\n",
    "    \"\"\"\n",
    "    Comments\n",
    "    \"\"\"\n",
    "    data = get_vulns_data()\n",
    "    data_fiiltered = filter_vulns_data(data)\n",
    "    #mac_address = get_mac_address(os)\n",
    "    #os_version = get_software_version(os)\n",
    "    #oftware_list = get_software_list(os)\n",
    "\n",
    "    #return {\n",
    "    #    \"id\": mac_address,\n",
    "    #    \"os\": os_version['so'],\n",
    "    #    \"osVersion\": os_version['so_version'],\n",
    "    #    \"scanDate\": datetime.now().isoformat(),\n",
    "    #    \"softwares\": software_list\n",
    "    #}"
   ]
  },
  {
   "cell_type": "code",
   "execution_count": 9,
   "metadata": {},
   "outputs": [],
   "source": [
    "def insert_software_with(software):\n",
    "    \"\"\"\n",
    "    Insert one software in the Atlas MongoDB\n",
    "    Args: software: JSONs with the info to insert\n",
    "    \"\"\"\n",
    "    try:\n",
    "        softwares_clt.insert_one(software)\n",
    "        print(\"Software inserted in the database\")\n",
    "    except Exception as e:\n",
    "        print(f\"Error: {e}\")\n",
    "\n",
    "    "
   ]
  },
  {
   "cell_type": "markdown",
   "metadata": {},
   "source": [
    "## Execution"
   ]
  },
  {
   "cell_type": "code",
   "execution_count": 10,
   "metadata": {
    "scrolled": true
   },
   "outputs": [],
   "source": [
    "def get_vulns_data():\n",
    "    \"\"\"\n",
    "    Comments\n",
    "    Try to request the data in MongoDB, if it doesn't respond it uses the temporary data file.\n",
    "    \"\"\"\n",
    "    \n",
    "    url = mongo_vulns_url\n",
    "     \n",
    "    payload = \"{\\r\\n    \\\"collection\\\":\\\"softwareByIP\\\",\\r\\n    \\\"database\\\":\\\"vulnsData\\\",\\r\\n    \\\"dataSource\\\":\\\"Cluster0\\\",\\r\\n    \\\"filter\\\": {}\\r\\n}'\"\n",
    "    headers = {\n",
    "      'Content-Type': 'application/ejson',\n",
    "      'apiKey': mongo_vulns_key\n",
    "    }\n",
    "    response =  requests.request(\"POST\", url, headers=headers, data=payload)\n",
    "    if response.status_code == 200:\n",
    "        return response.json()\n",
    "    else:\n",
    "        with open('data_temp.json', 'r') as file:\n",
    "            return json.load(file)\n"
   ]
  },
  {
   "cell_type": "code",
   "execution_count": 11,
   "metadata": {},
   "outputs": [],
   "source": [
    "def main():\n",
    "    try:\n",
    "        data_filtered = get_data_filtered()\n",
    "        print(json.dumps(data_filtered, indent=4))\n",
    "    except Exception as e:\n",
    "        print(f\"Failed to retrieve or process data: {e}\")"
   ]
  },
  {
   "cell_type": "code",
   "execution_count": 12,
   "metadata": {
    "scrolled": true
   },
   "outputs": [],
   "source": [
    "#if __name__ == \"__main__\":\n",
    "#    main()"
   ]
  },
  {
   "cell_type": "code",
   "execution_count": 13,
   "metadata": {},
   "outputs": [],
   "source": [
    "data = get_vulns_data()"
   ]
  },
  {
   "cell_type": "code",
   "execution_count": 14,
   "metadata": {
    "scrolled": true
   },
   "outputs": [],
   "source": [
    "#print(json.dumps(data,indent=4))"
   ]
  },
  {
   "cell_type": "code",
   "execution_count": 15,
   "metadata": {
    "scrolled": true
   },
   "outputs": [],
   "source": [
    "def get_software_list(data):\n",
    "    # Flatten the list of software names using a list comprehension.\n",
    "    return [software['Name'] for document in data['documents'] for software in document['softwareData']]\n",
    "\n",
    "software_list = get_software_list(data)\n",
    "\n",
    "# Create a list of dictionaries, each representing a document with its details.\n",
    "all_documents = [\n",
    "    {\n",
    "        'id': document['id'],\n",
    "        'hostname': document['hostname'],\n",
    "        'os': document['operativeSystem'],\n",
    "        'osVersion': document['version'],\n",
    "        'scanDate': datetime.now().isoformat(),\n",
    "        'softwares': software_list\n",
    "    } for document in data['documents']\n",
    "]\n"
   ]
  },
  {
   "cell_type": "code",
   "execution_count": 16,
   "metadata": {
    "scrolled": true
   },
   "outputs": [
    {
     "name": "stderr",
     "output_type": "stream",
     "text": [
      "IOPub data rate exceeded.\n",
      "The Jupyter server will temporarily stop sending output\n",
      "to the client in order to avoid crashing it.\n",
      "To change this limit, set the config variable\n",
      "`--ServerApp.iopub_data_rate_limit`.\n",
      "\n",
      "Current values:\n",
      "ServerApp.iopub_data_rate_limit=1000000.0 (bytes/sec)\n",
      "ServerApp.rate_limit_window=3.0 (secs)\n",
      "\n"
     ]
    }
   ],
   "source": [
    "print(json.dumps(all_documents,indent=4))"
   ]
  },
  {
   "cell_type": "code",
   "execution_count": null,
   "metadata": {},
   "outputs": [],
   "source": []
  }
 ],
 "metadata": {
  "kernelspec": {
   "display_name": "Python 3 (ipykernel)",
   "language": "python",
   "name": "python3"
  },
  "language_info": {
   "codemirror_mode": {
    "name": "ipython",
    "version": 3
   },
   "file_extension": ".py",
   "mimetype": "text/x-python",
   "name": "python",
   "nbconvert_exporter": "python",
   "pygments_lexer": "ipython3",
   "version": "3.12.2"
  }
 },
 "nbformat": 4,
 "nbformat_minor": 2
}
