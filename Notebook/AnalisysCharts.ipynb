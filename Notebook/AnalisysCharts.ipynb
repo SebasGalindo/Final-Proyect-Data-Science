{
 "cells": [
  {
   "cell_type": "code",
   "execution_count": 35,
   "metadata": {},
   "outputs": [],
   "source": [
    "import pymongo\n",
    "import json\n",
    "import matplotlib.pyplot as plt\n",
    "import numpy as np"
   ]
  },
  {
   "cell_type": "code",
   "execution_count": 36,
   "metadata": {},
   "outputs": [],
   "source": [
    "with open('config.json', 'r') as file:\n",
    "    config = json.load(file)\n",
    "\n",
    "mongo_uri = config['mongo_uri']\n",
    "database_name = config['database_name']\n",
    "softwares_collection = config['container_softwares']"
   ]
  },
  {
   "cell_type": "code",
   "execution_count": 37,
   "metadata": {},
   "outputs": [],
   "source": [
    "client = pymongo.MongoClient(mongo_uri)\n",
    "    \n",
    "# Select the database\n",
    "db = client[database_name]\n",
    "\n",
    "# Collection for store software data\n",
    "softwares_clt = db[softwares_collection]"
   ]
  },
  {
   "cell_type": "code",
   "execution_count": 38,
   "metadata": {},
   "outputs": [],
   "source": [
    "def get_vulnerable_softwares():\n",
    "    \"\"\"\n",
    "    Get all softwares with vulnerabilities in the database\n",
    "    Args: None\n",
    "    Returns: A list of softwares with vulnerabilities    \n",
    "    \"\"\"\n",
    "    vulnerable_softwares = softwares_clt.find({'vulnerabilities': {'$not': {'$size': 0}}}, {'_id': 0})\n",
    "    return vulnerable_softwares"
   ]
  },
  {
   "cell_type": "code",
   "execution_count": 41,
   "metadata": {},
   "outputs": [],
   "source": [
    "def impact_vulnerabilities(vulnerable_softwares):\n",
    "    \"\"\"\n",
    "    Create a chart of horizontal bars with the impact of all vulnerabilities (low, medium, high, critical)\n",
    "    Args: None\n",
    "    Returns: None\n",
    "    \"\"\"\n",
    "    impact = { \n",
    "              'UNKNOWN': 0,\n",
    "              'LOW': 0,\n",
    "              'MEDIUM': 0,\n",
    "              'HIGH': 0,\n",
    "              'CRITICAL': 0\n",
    "              }\n",
    "    for software in vulnerable_softwares:\n",
    "        for vulnerability in software['vulnerabilities']:\n",
    "            severity = \"UNKNOWN\"\n",
    "            if 'baseSeverity' in vulnerability['metrics']:\n",
    "                severity = vulnerability['metrics']['baseSeverity']\n",
    "            if severity in impact:\n",
    "                impact[severity] += 1\n",
    "            else:\n",
    "                impact[severity] += 1\n",
    "\n",
    "                \n",
    "    colors = [\"#475387\",\"#edc40c\",\"#ed6d0c\",\"#c90e0e\",\"#111111\"]\n",
    "    \n",
    "    for i, v in enumerate(list(impact.values())):\n",
    "        plt.text(v + 5 , i, str(v), \n",
    "            color = '#1f6b46', fontweight = 'bold')\n",
    "        \n",
    "    plt.grid(True, zorder = 1)\n",
    "    plt.barh(list(impact.keys()), list(impact.values()), color=colors, zorder = 2)\n",
    "    plt.xlim(0, max(impact.values()) + 20)\n",
    "    plt.xlabel('Number of vulnerabilities')\n",
    "    plt.ylabel('Impact')\n",
    "    plt.title('Impact of vulnerabilities')\n",
    "    plt.show()\n",
    "            "
   ]
  },
  {
   "cell_type": "code",
   "execution_count": 42,
   "metadata": {},
   "outputs": [],
   "source": [
    "def chart_top_ten_vulnerable_softwares():\n",
    "    \"\"\"\n",
    "    Create a chart of vertical bars with the top ten softwares with more vulnerabilities\n",
    "    The average number of vulnerabilities is represented with a dashed red line\n",
    "    Args: None\n",
    "    Returns: None\n",
    "    \"\"\"\n",
    "    softwares_sorted = get_softwares_sorted_by_qty_vulnerabilities()\n",
    "    average_number_of_vulnerabilities = sum([s['vulnerabilityLength'] for s in softwares_sorted]) / len(softwares_sorted)\n",
    "    top_ten_softwares = softwares_sorted[:50]\n",
    "    softwares_names = [s['name'] for s in top_ten_softwares]\n",
    "    vulnerabilities_count = [s['vulnerabilityLength'] for s in top_ten_softwares]\n",
    "\n",
    "    plt.bar(softwares_names, vulnerabilities_count)\n",
    "    plt.axhline(y=average_number_of_vulnerabilities, color='r', linestyle='--')\n",
    "    plt.xlabel('Software')\n",
    "    plt.ylabel('Number of Vulnerabilities')\n",
    "    plt.title('Top Ten Softwares with More Vulnerabilities')\n",
    "    plt.xticks(rotation=90)\n",
    "    plt.show()\n",
    "        "
   ]
  },
  {
   "cell_type": "code",
   "execution_count": 43,
   "metadata": {},
   "outputs": [],
   "source": [
    "def get_softwares_sorted_by_qty_vulnerabilities():\n",
    "    \"\"\"\n",
    "    Get all softwares sorted by the number of vulnerabilities\n",
    "    Args: None\n",
    "    Returns: A list of softwares sorted by the number of vulnerabilities    \n",
    "    \"\"\"\n",
    "    pipeline = [\n",
    "        {\n",
    "            \"$addFields\": {\n",
    "                \"vulnerabilityLength\": {\"$size\": \"$vulnerabilities\"}  # Replace \"yourArrayField\" with the actual name of your array field\n",
    "            }\n",
    "        },\n",
    "        {\n",
    "            \"$match\": {\n",
    "                \"vulnerabilities\": {\"$not\": {\"$size\": 0}}\n",
    "            }\n",
    "        },\n",
    "        {\n",
    "            \"$sort\": {\"vulnerabilityLength\": -1}\n",
    "        },\n",
    "        {\n",
    "            \"$project\": {\n",
    "                # Exclude the \"arrayLength\" field if you don't need it in the output\n",
    "                \"_id\": 0\n",
    "            }\n",
    "        }\n",
    "    ]\n",
    "    softwares_sorted = softwares_clt.aggregate(pipeline)\n",
    "    return list(softwares_sorted)\n"
   ]
  },
  {
   "cell_type": "code",
   "execution_count": 48,
   "metadata": {},
   "outputs": [
    {
     "data": {
      "image/png": "[encoded data removed]",
      "text/plain": [
       "<Figure size 640x480 with 1 Axes>"
      ]
     },
     "metadata": {},
     "output_type": "display_data"
    }
   ],
   "source": [
    "vulnerable_softwares = get_vulnerable_softwares()\n",
    "impact_vulnerabilities(vulnerable_softwares)"
   ]
  },
  {
   "cell_type": "code",
   "execution_count": null,
   "metadata": {},
   "outputs": [],
   "source": []
  }
 ],
 "metadata": {
  "kernelspec": {
   "display_name": "Python 3",
   "language": "python",
   "name": "python3"
  },
  "language_info": {
   "codemirror_mode": {
    "name": "ipython",
    "version": 3
   },
   "file_extension": ".py",
   "mimetype": "text/x-python",
   "name": "python",
   "nbconvert_exporter": "python",
   "pygments_lexer": "ipython3",
   "version": "3.12.3"
  }
 },
 "nbformat": 4,
 "nbformat_minor": 2
}
