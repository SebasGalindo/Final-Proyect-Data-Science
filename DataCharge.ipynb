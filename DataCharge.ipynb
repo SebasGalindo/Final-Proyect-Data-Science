{
 "cells": [
  {
   "cell_type": "code",
   "execution_count": 21,
   "metadata": {},
   "outputs": [],
   "source": [
    "import os\n",
    "import re\n",
    "import subprocess\n",
    "import json\n",
    "import requests\n",
    "import time\n",
    "import sys"
   ]
  },
  {
   "cell_type": "code",
   "execution_count": 22,
   "metadata": {},
   "outputs": [],
   "source": [
    "with open('config.json', 'r') as file:\n",
    "    config = json.load(file)\n",
    "\n",
    "api_key_nist = config['api_key_nist']\n",
    "api_key_cvedetails = config['api_key_cvedetails']\n",
    "mongo_uri = config['mongo_uri']"
   ]
  },
  {
   "cell_type": "code",
   "execution_count": 23,
   "metadata": {},
   "outputs": [],
   "source": [
    "if sys.platform.startswith('win'):\n",
    "    os_name = \"Windows\"\n",
    "elif sys.platform.startswith('linux'):\n",
    "    os_name = \"Linux\""
   ]
  },
  {
   "cell_type": "code",
   "execution_count": 24,
   "metadata": {},
   "outputs": [],
   "source": [
    "def get_mac_address():\n",
    "    try:\n",
    "        # get the mac address\n",
    "        if os_name == \"Windows\":\n",
    "            mac_address = subprocess.check_output(\"getmac\", shell=True)\n",
    "        if os_name == \"Linux\":\n",
    "            mac_address = subprocess.check_output(\"ifconfig | grep ether\", shell=True)\n",
    "\n",
    "        # extract the mac address\n",
    "        mac_address = re.search(r\"\\w\\w:\\w\\w:\\w\\w:\\w\\w:\\w\\w:\\w\\w\", str(mac_address))\n",
    "        return mac_address.group(0)\n",
    "    except Exception as e:\n",
    "        print(f\"Error: {e}\")\n",
    "        return None"
   ]
  },
  {
   "cell_type": "code",
   "execution_count": 25,
   "metadata": {},
   "outputs": [
    {
     "name": "stdout",
     "output_type": "stream",
     "text": [
      "Error: 'NoneType' object has no attribute 'group'\n",
      "None\n"
     ]
    }
   ],
   "source": [
    "print(get_mac_address())"
   ]
  },
  {
   "cell_type": "code",
   "execution_count": 26,
   "metadata": {},
   "outputs": [],
   "source": [
    "def get_software_version():\n",
    "    try:\n",
    "        # get the software version\n",
    "        if os_name == \"Linux\":\n",
    "            output = os.popen(\"uname -a\").read()\n",
    "            output_parts = output.split()\n",
    "            so = output_parts[1]\n",
    "            so_version = output_parts[2]\n",
    "        if os_name == \"Windows\":\n",
    "            output = os.popen(\"systeminfo\").read()\n",
    "\n",
    "            # Using regular expressions to extract the OS name and version\n",
    "            so = re.search(r'OS Name:\\s*(.*)', output).group(1)\n",
    "            so_version = re.search(r'OS Version:\\s*(.*)', output).group(1)\n",
    "\n",
    "        result = json.dumps({\n",
    "        'so': so,\n",
    "        'so_version': so_version\n",
    "        })\n",
    "\n",
    "        return result\n",
    "    \n",
    "    except Exception as e:\n",
    "        print(f\"Error: {e}\")\n",
    "        return None"
   ]
  },
  {
   "cell_type": "code",
   "execution_count": 28,
   "metadata": {},
   "outputs": [
    {
     "name": "stdout",
     "output_type": "stream",
     "text": [
      "{\"so\": \"Microsoft Windows 11 Pro\", \"so_version\": \"10.0.22631 N/A Build 22631\"}\n"
     ]
    }
   ],
   "source": [
    "print(get_software_version())"
   ]
  },
  {
   "cell_type": "code",
   "execution_count": 29,
   "metadata": {},
   "outputs": [],
   "source": [
    "def get_software_version():\n",
    "    try:\n",
    "        # get the software version\n",
    "        if os_name == \"Linux\":\n",
    "            output = os.popen(\"uname -a\").read()\n",
    "            output_parts = output.split()\n",
    "            so = output_parts[1]\n",
    "            so_version = output_parts[2]\n",
    "        if os_name == \"Windows\":\n",
    "            output = os.popen(\"systeminfo\").read()\n",
    "\n",
    "            # Using regular expressions to extract the OS name and version\n",
    "            so = re.search(r'OS Name:\\s*(.*)', output).group(1)\n",
    "            so_version = re.search(r'OS Version:\\s*(.*)', output).group(1)\n",
    "\n",
    "        result = json.dumps({\n",
    "        'so': so,\n",
    "        'so_version': so_version\n",
    "        })\n",
    "\n",
    "        return result\n",
    "    \n",
    "    except Exception as e:\n",
    "        print(f\"Error: {e}\")\n",
    "        return None"
   ]
  },
  {
   "cell_type": "code",
   "execution_count": 30,
   "metadata": {},
   "outputs": [],
   "source": [
    "def GetSoftwareList():\n",
    "    if os_name == \"Windows\":\n",
    "        # Execute the command to get the list of installed software (Windows case)\n",
    "        proc = subprocess.Popen(\"wmic product get name\", shell=True, stdout=subprocess.PIPE, stderr=subprocess.PIPE, text=True)\n",
    "    elif os_name == \"Linux\":\n",
    "        # Execute the command to get the list of installed software (Linux case)\n",
    "        proc = subprocess.Popen(\"dpkg -l | awk '{print $2}' | tail -n +6\", shell=True, stdout=subprocess.PIPE, stderr=subprocess.PIPE, text=True)\n",
    "\n",
    "    # Read the command output\n",
    "    stdout, stderr = proc.communicate()\n",
    "\n",
    "    # To list, split by product name\n",
    "    softwareList = stdout.splitlines()\n",
    "\n",
    "    return softwareList"
   ]
  },
  {
   "cell_type": "code",
   "execution_count": 31,
   "metadata": {},
   "outputs": [
    {
     "name": "stdout",
     "output_type": "stream",
     "text": [
      "['Name                                                                           ', '', 'Python 3.11.7 Documentation (64-bit)                                           ', '', 'Microsoft Teams Meeting Add-in for Microsoft Office                            ', '', 'Python 3.12.2 Standard Library (64-bit)                                        ', '', 'Python 3.11.7 Add to Path (64-bit)                                             ', '', 'Python 3.11.7 Executables (64-bit)                                             ', '', 'Python 3.11.7 Tcl/Tk Support (64-bit)                                          ', '', 'Python 3.11.7 Standard Library (64-bit)                                        ', '', 'Python 3.11.7 Utility Scripts (64-bit)                                         ', '', 'Python 3.11.7 pip Bootstrap (64-bit)                                           ', '', 'Python 3.12.2 Executables (64-bit)                                             ', '', 'Python 3.11.7 Development Libraries (64-bit)                                   ', '', 'Python 3.11.7 Core Interpreter (64-bit)                                        ', '', 'Python 3.12.2 Test Suite (64-bit)                                              ', '', 'Python 3.11.7 Test Suite (64-bit)                                              ', '', 'Python 3.12.2 Tcl/Tk Support (64-bit)                                          ', '', 'Python 3.12.2 Documentation (64-bit)                                           ', '', 'Python 3.12.2 Add to Path (64-bit)                                             ', '', 'Python 3.12.2 pip Bootstrap (64-bit)                                           ', '', 'Python 3.12.2 Development Libraries (64-bit)                                   ', '', 'Python 3.12.2 Core Interpreter (64-bit)                                        ', '', 'Office 16 Click-to-Run Extensibility Component                                 ', '', 'Office 16 Click-to-Run Localization Component                                  ', '', 'Office 16 Click-to-Run Licensing Component                                     ', '', 'AMD Ryzen Balanced Driver                                                      ', '', 'Microsoft.NET.Sdk.MacCatalyst.Manifest-8.0.100 (x64)                           ', '', 'vs_githubprotocolhandlermsi                                                    ', '', 'SQL Server 2022 XEvent                                                         ', '', 'Microsoft.NET.Workload.Mono.Toolchain.net7.Manifest (x64)                      ', '', 'Microsoft.NET.Sdk.Maui.Manifest-8.0.100 (x64)                                  ', '', 'vs_devenx64vmsi                                                                ', '', 'Microsoft ASP.NET Core 8.0.2 Shared Framework (x64)                            ', '', 'SQL Server 2022 Shared Management Objects                                      ', '', 'Microsoft .NET Framework 4.8 Targeting Pack                                    ', '', 'vs_communitymsires                                                             ', '', 'Microsoft .NET Runtime - 8.0.2 (x64)                                           ', '', 'Microsoft Visual C++ 2013 x86 Minimum Runtime - 12.0.40664                     ', '', 'Microsoft Visual C++ 2010  x86 Redistributable - 10.0.40219                    ', '', 'Microsoft Visual Studio Setup Configuration                                    ', '', 'vs_FileTracker_Singleton                                                       ', '', 'Microsoft .NET Targeting Pack - 8.0.4 (x64)                                    ', '', 'SQL Server 2022 Database Engine Shared                                         ', '', 'SQL Server 2022 Connection Info                                                ', '', 'Microsoft .NET Host FX Resolver - 8.0.2 (x86)                                  ', '', 'Microsoft.NET.Workload.Emscripten.Current.Manifest (x64)                       ', '', 'Microsoft Analysis Services OLE DB Provider                                    ', '', 'IntelliTraceProfilerProxy                                                      ', '', 'SQL Server 2022 Connection Info                                                ', '', 'Microsoft Visual C++ 2022 X86 Additional Runtime - 14.38.33135                 ', '', 'Microsoft Visual Studio Tools for Applications 2019 x64 Hosting Support        ', '', 'Microsoft Report Builder                                                       ', '', 'Microsoft.NET.Workload.Mono.Toolchain.net7.Manifest (x64)                      ', '', 'Microsoft.NET.Workload.Emscripten.net6.Manifest (x64)                          ', '', 'Microsoft .NET Framework 4.7.2 Targeting Pack (ENU)                            ', '', 'Microsoft ASP.NET Core Module for IIS Express                                  ', '', 'icecap_collection_neutral                                                      ', '', 'vs_minshellinteropx64msi                                                       ', '', 'VS Script Debugging Common                                                     ', '', 'Microsoft Visual C++ 2013 x64 Minimum Runtime - 12.0.40664                     ', '', 'Microsoft Visual Studio Tools for Applications 2019 x86 Hosting Support        ', '', 'Microsoft Visual C++ 2022 X64 Additional Runtime - 14.38.33135                 ', '', 'Microsoft.NET.Workload.Emscripten.Current.Manifest (x64)                       ', '', 'PowerToys (Preview)                                                            ', '', 'SQL Server 2022 Common Files                                                   ', '', 'Microsoft ASP.NET Diagnostic Pack for Visual Studio                            ', '', 'Microsoft .NET AppHost Pack - 8.0.2 (x64_x86)                                  ', '', 'Microsoft .NET AppHost Pack - 8.0.4 (x64_x86)                                  ', '', 'Microsoft.NET.Sdk.macOS.Manifest-8.0.100 (x64)                                 ', '', 'Microsoft.NET.Workload.Mono.Toolchain.net6.Manifest (x64)                      ', '', 'Microsoft .NET SDK 8.0.200 (x64) from Visual Studio                            ', '', 'AMD_Chipset_Drivers                                                            ', '', 'Microsoft.NET.Workload.Mono.Toolchain.Current.Manifest (x64)                   ', '', 'Microsoft ASP.NET Core 8.0.4 Shared Framework (x64)                            ', '', 'Microsoft.NET.Sdk.Android.Manifest-8.0.100 (x64)                               ', '', 'vs_clickoncebootstrappermsi                                                    ', '', 'Microsoft .NET Framework 4.8 SDK                                               ', '', 'Microsoft.NET.Workload.Emscripten.net6.Manifest (x64)                          ', '', 'SQL Server 2022 Shared Management Objects Extensions                           ', '', 'Microsoft TestPlatform SDK Local Feed                                          ', '', 'SQL Server 2022 Database Engine Services                                       ', '', 'Microsoft .NET AppHost Pack - 8.0.4 (x64)                                      ', '', 'Microsoft.NET.Sdk.iOS.Manifest-8.0.100 (x64)                                   ', '', 'Microsoft Analysis Services OLE DB Provider                                    ', '', 'Microsoft Visual C++ 2022 X64 Minimum Runtime - 14.38.33135                    ', '', 'DiagnosticsHub_CollectionService                                               ', '', 'vcpp_crt.redist.clickonce                                                      ', '', 'Browser for SQL Server 2022                                                    ', '', 'Microsoft.NET.Sdk.iOS.Manifest-8.0.100 (x64)                                   ', '', 'Microsoft Windows Desktop Targeting Pack - 8.0.2 (x64)                         ', '', 'Microsoft .NET Framework 4.8 Targeting Pack (ENU)                              ', '', 'vs_clickoncesigntoolmsi                                                        ', '', 'Microsoft Windows Desktop Targeting Pack - 8.0.4 (x64)                         ', '', 'Microsoft Help Viewer 2.3                                                      ', '', 'vs_minshellmsires                                                              ', '', 'Microsoft.NET.Sdk.Aspire.Manifest-8.0.100 (x64)                                ', '', 'AMD WVR64                                                                      ', '', 'Microsoft SQL Server 2022 Setup (English)                                      ', '', 'IIS 10.0 Express                                                               ', '', 'SQL Server 2022 DMF                                                            ', '', 'Microsoft Windows Desktop Runtime - 8.0.2 (x86)                                ', '', 'Microsoft ASP.NET Core 8.0.2 Targeting Pack (x86)                              ', '', 'Microsoft .NET Host FX Resolver - 8.0.2 (x64)                                  ', '', 'Microsoft.NET.Sdk.Maui.Manifest-8.0.100 (x64)                                  ', '', 'vs_SQLClickOnceBootstrappermsi                                                 ', '', 'Microsoft ASP.NET Core Module V2 for IIS Express                               ', '', 'Microsoft.NET.Sdk.macOS.Manifest-8.0.100 (x64)                                 ', '', 'vs_minshellinteropsharedmsi                                                    ', '', 'vs_filehandler_x86                                                             ', '', 'vs_minshellx64msi                                                              ', '', 'ClickOnce Bootstrapper Package for Microsoft .NET Framework                    ', '', 'Microsoft Command Line Utilities 15 for SQL Server                             ', '', 'vs_tipsmsi                                                                     ', '', 'RyzenMasterSDK                                                                 ', '', 'SQL Server 2022 Database Engine Shared                                         ', '', 'SQL Server 2022 SQL Diagnostics                                                ', '', 'Microsoft VSS Writer for SQL Server 2022                                       ', '', 'Microsoft .NET Toolset 8.0.204 (x64)                                           ', '', 'Microsoft SQL Server 2019 LocalDB                                              ', '', 'AMD PSP Driver                                                                 ', '', 'IntelliTraceProfilerProxy                                                      ', '', 'Microsoft.NET.Sdk.tvOS.Manifest-8.0.100 (x64)                                  ', '', 'Microsoft ASP.NET Core 8.0.4 Targeting Pack (x64)                              ', '', 'SQL Server 2022 Batch Parser                                                   ', '', 'SQL Server 2022 XEvent                                                         ', '', 'Microsoft OLE DB Driver for SQL Server                                         ', '', 'Microsoft.NET.Workload.Mono.Toolchain.Current.Manifest (x64)                   ', '', 'icecap_collection_x64                                                          ', '', '                                                                               ', '', 'Microsoft .NET Host - 8.0.4 (x64)                                              ', '', 'Microsoft.NET.Workload.Emscripten.net7.Manifest (x64)                          ', '', 'FortiClient VPN                                                                ', '', 'Microsoft .NET AppHost Pack - 8.0.2 (x64_arm64)                                ', '', 'Microsoft SQL Server 2022 RsFx Driver                                          ', '', 'Microsoft Windows Desktop Runtime - 8.0.2 (x64)                                ', '', 'Microsoft .NET AppHost Pack - 8.0.2 (x64)                                      ', '', 'Microsoft.NET.Sdk.Android.Manifest-8.0.100 (x64)                               ', '', 'Microsoft .NET Framework Cumulative Intellisense Pack for Visual Studio (ENU)  ', '', 'SSMS Post Install Tasks                                                        ', '', 'Microsoft.NET.Sdk.tvOS.Manifest-8.0.100 (x64)                                  ', '', 'SQL Server 2022 Shared Management Objects                                      ', '', 'Microsoft Windows Desktop Targeting Pack - 8.0.2 (x86)                         ', '', 'Microsoft Visual C++ 2013 x64 Additional Runtime - 12.0.40664                  ', '', 'SQL Server 2022 Shared Management Objects Extensions                           ', '', 'Microsoft.NET.Sdk.MacCatalyst.Manifest-8.0.100 (x64)                           ', '', 'Microsoft Visual Studio Setup WMI Provider                                     ', '', 'AMD Settings                                                                   ', '', 'SQL Server Management Studio Language Pack - English                           ', '', 'Microsoft .NET Targeting Pack - 8.0.2 (x86)                                    ', '', 'Microsoft Web Deploy 4.0                                                       ', '', 'Microsoft .NET AppHost Pack - 8.0.4 (x64_arm64)                                ', '', 'vs_communitysharedmsi                                                          ', '', 'Microsoft Visual C++ 2022 X86 Minimum Runtime - 14.38.33135                    ', '', 'Microsoft System CLR Types for SQL Server 2019                                 ', '', 'VS JIT Debugger                                                                ', '', 'SQL Server Management Studio                                                   ', '', 'Microsoft .NET Standard Targeting Pack - 2.1.0 (x64)                           ', '', 'vs_minshellsharedmsi                                                           ', '', 'Microsoft Visual C++ 2012 x86 Additional Runtime - 11.0.61030                  ', '', 'Microsoft ASP.NET Core 8.0.2 Targeting Pack (x64)                              ', '', 'SQL Server 2022 Common Files                                                   ', '', 'vs_clickoncebootstrappermsires                                                 ', '', 'SQL Server 2022 Database Engine Services                                       ', '', 'Integration Services                                                           ', '', 'vs_communityx64msi                                                             ', '', 'Microsoft ODBC Driver 17 for SQL Server                                        ', '', 'Entity Framework 6.2.0 Tools  for Visual Studio 2022                           ', '', 'Microsoft.NET.Workload.Emscripten.net7.Manifest (x64)                          ', '', 'Promontory_GPIO Driver                                                         ', '', 'Microsoft .NET Runtime - 8.0.4 (x64)                                           ', '', 'Microsoft .NET Targeting Pack - 8.0.2 (x64)                                    ', '', 'Microsoft Visual C++ 2013 x86 Additional Runtime - 12.0.40664                  ', '', '3CXPhone                                                                       ', '', 'AMD SBxxx SMBus Driver                                                         ', '', 'Microsoft .NET Framework 4.7.2 Targeting Pack                                  ', '', 'Microsoft Visual C++ 2012 x86 Minimum Runtime - 11.0.61030                     ', '', 'vs_BlendMsi                                                                    ', '', 'Microsoft .NET 8.0 Templates 8.0.200 (x64)                                     ', '', 'Microsoft .NET 8.0 Templates 8.0.204 (x64)                                     ', '', 'vs_CoreEditorFonts                                                             ', '', 'Microsoft Update Health Tools                                                  ', '', 'Python Launcher                                                                ', '', 'SQL Server 2022 DMF                                                            ', '', 'Microsoft ASP.NET Core 8.0.2 Shared Framework (x86)                            ', '', 'vs_devenvsharedmsi                                                             ', '', 'Microsoft .NET Host - 8.0.2 (x86)                                              ', '', 'icecap_collectionresourcesx64                                                  ', '', 'vs_vswebprotocolselectormsi                                                    ', '', 'Branding64                                                                     ', '', 'AMD PCI Driver                                                                 ', '', 'Microsoft Windows Desktop Runtime - 8.0.4 (x64)                                ', '', 'Microsoft .NET Toolset 8.0.200 (x64)                                           ', '', 'AMD DVR64                                                                      ', '', 'Microsoft.NET.Workload.Mono.Toolchain.net6.Manifest (x64)                      ', '', 'icecap_collectionresources                                                     ', '', 'Microsoft .NET Runtime - 8.0.2 (x86)                                           ', '', 'Visual Studio 2017 Isolated Shell for SSMS                                     ', '', 'Microsoft .NET Host FX Resolver - 8.0.4 (x64)                                  ', '', 'AMD GPIO2 Driver                                                               ', '', 'VS Immersive Activate Helper                                                   ', '', 'vs_filehandler_amd64                                                           ', '', '', '']\n"
     ]
    }
   ],
   "source": [
    "print(GetSoftwareList())"
   ]
  },
  {
   "cell_type": "code",
   "execution_count": 10,
   "metadata": {},
   "outputs": [],
   "source": [
    "def GetVulnerabilityInfo(vulnId):\n",
    "    \"\"\"\n",
    "    Obtain the info provided by services.nvd.nist.gov about the vulnerability, then store the relevant info in a JSON\n",
    "    \n",
    "    Args: \n",
    "        vulnId: That's the vulnerability identifier for the endpoint request.\n",
    "\n",
    "    Returns:\n",
    "        vulnInfo: JSON that contains relevant info about the vulnerability.\n",
    "    \"\"\"\n",
    "    print('VulnName a pasar = '+ vulnId) \n",
    "    endPoint = f'https://services.nvd.nist.gov/rest/json/cves/2.0?cveId={vulnId}'\n",
    "    headers = {\n",
    "        'apiKey': api_key_nist\n",
    "    }\n",
    "    infoVuln = requests.get(endPoint,headers = headers)\n",
    "    try:\n",
    "        infoVulnJSON = infoVuln.json()\n",
    "    except ValueError:\n",
    "        print('Error, respuesta recibida fue: ')\n",
    "        print(infoVuln.json())\n",
    "        return\n",
    "    infoVulnJSON = infoVulnJSON['vulnerabilities'][0]['cve']\n",
    "    cvssMetricInfo = {}\n",
    "    if 'cvssMetricV31' in infoVulnJSON['metrics']:\n",
    "        cvssMetricInfo = RestructureCvssMetrics(infoVulnJSON['metrics']['cvssMetricV31'],31)\n",
    "    elif 'cvssMetricV30' in infoVulnJSON['metrics']:\n",
    "        cvssMetricInfo = RestructureCvssMetrics(infoVulnJSON['metrics']['cvssMetricV30'],30)\n",
    "    elif 'cvssMetricV2' in infoVulnJSON['metrics']:\n",
    "        cvssMetricInfo = RestructureCvssMetrics(infoVulnJSON['metrics']['cvssMetricV2'],2)\n",
    "    \n",
    "    vulnInfo = {\n",
    "        \"CVE_ID\": vulnId,\n",
    "        \"description\": infoVulnJSON['descriptions'][0]['value'],\n",
    "        \"vulnStatus\": infoVulnJSON['vulnStatus'],\n",
    "        \"metrics\": cvssMetricInfo,\n",
    "    }\n",
    "    return vulnInfo"
   ]
  },
  {
   "cell_type": "code",
   "execution_count": 11,
   "metadata": {},
   "outputs": [],
   "source": [
    "def RestructureCvssMetrics(infoVulnJSON, metricVersion):\n",
    "    \"\"\"\n",
    "    Store in a JSON (cvssMetricInfo) the organized data about cvss metrics\n",
    "    \n",
    "    Args: \n",
    "        infoVulnJSON: JSON with data still unorganized \n",
    "        metricVersion: especifies the cvss version which was calculated the metrics\n",
    "\n",
    "    Returns:\n",
    "        JSON: organized data about cvss metrics which contains:\n",
    "            baseSeverity - baseScore - vertorString and its details - exploitabilityScore - impactScore - type - version cvss Metrics\n",
    "    \"\"\"\n",
    "    cvssMetricInfo = {}\n",
    "    cvssMetricInfo['baseScore'] = infoVulnJSON[0]['cvssData']['baseScore']\n",
    "    # Depends cvss version used for metrics the baseSeverity is in diferent JSON's place\n",
    "    if metricVersion == 31 or metricVersion == 30:\n",
    "        cvssMetricInfo['baseSeverity'] = infoVulnJSON[0]['cvssData']['baseSeverity']\n",
    "    else:\n",
    "        cvssMetricInfo['baseSeverity'] = infoVulnJSON[0]['baseSeverity']\n",
    "    # Remaining cvss metrics is equally located in any version\n",
    "    cvssMetricInfo['exploitabilityScore'] = infoVulnJSON[0]['exploitabilityScore']\n",
    "    cvssMetricInfo['impactScore'] = infoVulnJSON[0]['impactScore']\n",
    "    cvssMetricInfo['type'] = infoVulnJSON[0]['type']\n",
    "    cvssMetricInfo['cvssDetailedData'] = infoVulnJSON[0]['cvssData']\n",
    "    # Deleting repeated info\n",
    "    del cvssMetricInfo['cvssDetailedData']['baseScore']\n",
    "    if metricVersion == 31 or metricVersion == 30:\n",
    "        del cvssMetricInfo['cvssDetailedData']['baseSeverity']\n",
    "    # Return final restructured JSON\n",
    "    return cvssMetricInfo"
   ]
  },
  {
   "cell_type": "code",
   "execution_count": 12,
   "metadata": {},
   "outputs": [],
   "source": [
    "def GetCVEPerSoftware(productName):\n",
    "    url = f\"https://www.cvedetails.com/api/v1/vulnerability/search?outputFormat=json&productName={productName}&pageNumber=1&resultsPerPage=10\"\n",
    "    \n",
    "    headers = {\n",
    "      'user-agent': 'Mozilla/5.0 (X11; Linux x86_64) AppleWebKit/537.36 (KHTML, like Gecko) Chrome/122.0.0.0 Safari/537.36 Edg/122.0.0.0',\n",
    "      'Authorization': f'Bearer {api_key_cvedetails}'\n",
    "    }\n",
    "    tryRequest = True\n",
    "    while(tryRequest):   \n",
    "        session = requests.Session()\n",
    "        response = session.get(url, headers=headers)\n",
    "        responseJSON = response.json()\n",
    "        if \"errors\" in responseJSON:\n",
    "            print(\"time exceded waiting 1 minute\")\n",
    "            time.sleep(60)\n",
    "        else:\n",
    "            print(\"cveList request of \" + productName + \" done\")\n",
    "            tryRequest = False\n",
    "    cveList = []\n",
    "    if len(responseJSON['results']) < 1:\n",
    "        return \"No vulnerabilities registered\"\n",
    "    for cve in responseJSON['results']:\n",
    "        cveInfo = GetVulnerabilityInfo(cve['cveId'])\n",
    "        cveAttackDetails = {k:v for k, v in cve.items() if k.startswith('is')}\n",
    "        cveInfo['AttackDetails'] = cveAttackDetails\n",
    "        cveList.append(cveInfo)\n",
    "\n",
    "    return cveList"
   ]
  },
  {
   "cell_type": "code",
   "execution_count": 19,
   "metadata": {},
   "outputs": [],
   "source": [
    "def InsertInAtlas(results):\n",
    "    \"\"\"\n",
    "    Insert the results in the Atlas MongoDB\n",
    "    Args: results: List of JSONs with the info to insert\n",
    "    \"\"\"\n",
    "    \n",
    "    client = pymongo.MongoClient(mongo_uri)\n",
    "    \n",
    "    # Selecciona la base de datos\n",
    "    db = client[\"DataScience\"]\n",
    "    \n",
    "    # Selecciona la colección\n",
    "    coleccion = db[\"SoftwareCVE\"]\n",
    "    \n",
    "    coleccion.insert_many(results)\n",
    "    print(\"Correctly Inserted\")"
   ]
  }
 ],
 "metadata": {
  "kernelspec": {
   "display_name": "Python 3",
   "language": "python",
   "name": "python3"
  },
  "language_info": {
   "codemirror_mode": {
    "name": "ipython",
    "version": 3
   },
   "file_extension": ".py",
   "mimetype": "text/x-python",
   "name": "python",
   "nbconvert_exporter": "python",
   "pygments_lexer": "ipython3",
   "version": "3.12.2"
  }
 },
 "nbformat": 4,
 "nbformat_minor": 2
}
