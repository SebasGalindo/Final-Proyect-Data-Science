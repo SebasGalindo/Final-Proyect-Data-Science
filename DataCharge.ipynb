{
 "cells": [
  {
   "cell_type": "code",
   "execution_count": 8,
   "metadata": {},
   "outputs": [],
   "source": [
    "# obtain the mac address of the device\n",
    "import os\n",
    "import re\n",
    "import subprocess\n",
    "\n",
    "def get_mac_address(os_name):\n",
    "    try:\n",
    "        # get the mac address\n",
    "        if os_name == \"Windows\":\n",
    "            mac_address = subprocess.check_output(\"getmac\", shell=True)\n",
    "        if os_name == \"Linux\":\n",
    "            mac_address = subprocess.check_output(\"ifconfig | grep ether\", shell=True)\n",
    "\n",
    "        # extract the mac address\n",
    "        mac_address = re.search(r\"\\w\\w:\\w\\w:\\w\\w:\\w\\w:\\w\\w:\\w\\w\", str(mac_address))\n",
    "        return mac_address.group(0)\n",
    "    except Exception as e:\n",
    "        print(f\"Error: {e}\")\n",
    "        return None"
   ]
  },
  {
   "cell_type": "code",
   "execution_count": 10,
   "metadata": {},
   "outputs": [
    {
     "name": "stdout",
     "output_type": "stream",
     "text": [
      "02:42:3f:33:3b:c4\n"
     ]
    }
   ],
   "source": [
    "print(get_mac_address('Linux'))"
   ]
  },
  {
   "cell_type": "code",
   "execution_count": null,
   "metadata": {},
   "outputs": [],
   "source": []
  }
 ],
 "metadata": {
  "kernelspec": {
   "display_name": "Python 3",
   "language": "python",
   "name": "python3"
  },
  "language_info": {
   "codemirror_mode": {
    "name": "ipython",
    "version": 3
   },
   "file_extension": ".py",
   "mimetype": "text/x-python",
   "name": "python",
   "nbconvert_exporter": "python",
   "pygments_lexer": "ipython3",
   "version": "3.12.2"
  }
 },
 "nbformat": 4,
 "nbformat_minor": 2
}
