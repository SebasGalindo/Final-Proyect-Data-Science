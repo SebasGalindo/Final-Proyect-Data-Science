{
 "cells": [
  {
   "cell_type": "code",
   "execution_count": null,
   "metadata": {},
   "outputs": [],
   "source": [
    "import os\n",
    "import re\n",
    "import subprocess\n",
    "import json\n",
    "import requests\n",
    "import time\n"
   ]
  },
  {
   "cell_type": "code",
   "execution_count": null,
   "metadata": {},
   "outputs": [],
   "source": [
    "with open('config.json', 'r') as file:\n",
    "    config = json.load(file)\n",
    "\n",
    "api_key_nist = config['api_key_nist']\n",
    "api_key_cvedetails = config['api_key_cvedetails']\n",
    "mongo_uri = config['mongo_uri']"
   ]
  },
  {
   "cell_type": "code",
   "execution_count": 29,
   "metadata": {},
   "outputs": [],
   "source": [
    "# function to know the os of the device, return 'Linux' or 'Windows' or 'Mac'\n",
    "def get_os():\n",
    "    os = subprocess.check_output('uname -s', shell=True).decode('utf-8').strip()\n",
    "    return os"
   ]
  },
  {
   "cell_type": "code",
   "execution_count": 30,
   "metadata": {},
   "outputs": [
    {
     "name": "stdout",
     "output_type": "stream",
     "text": [
      "Linux\n"
     ]
    }
   ],
   "source": [
    "print(get_os())"
   ]
  },
  {
   "cell_type": "code",
   "execution_count": null,
   "metadata": {},
   "outputs": [],
   "source": [
    "def get_mac_address(os_name):\n",
    "    try:\n",
    "        # get the mac address\n",
    "        if os_name == \"Windows\":\n",
    "            mac_address = subprocess.check_output(\"getmac\", shell=True)\n",
    "        if os_name == \"Linux\":\n",
    "            mac_address = subprocess.check_output(\"ifconfig | grep ether\", shell=True)\n",
    "\n",
    "        # extract the mac address\n",
    "        mac_address = re.search(r\"\\w\\w:\\w\\w:\\w\\w:\\w\\w:\\w\\w:\\w\\w\", str(mac_address))\n",
    "        return mac_address.group(0)\n",
    "    except Exception as e:\n",
    "        print(f\"Error: {e}\")\n",
    "        return None"
   ]
  },
  {
   "cell_type": "code",
   "execution_count": null,
   "metadata": {},
   "outputs": [],
   "source": [
    "print(get_mac_address('Linux'))"
   ]
  },
  {
   "cell_type": "code",
   "execution_count": null,
   "metadata": {},
   "outputs": [],
   "source": [
    "def get_software_version(os_name):\n",
    "    try:\n",
    "        # get the software version\n",
    "        if os_name == \"Linux\":\n",
    "            output = os.popen(\"uname -a\").read()\n",
    "            output_parts = output.split()\n",
    "            so = output_parts[1]\n",
    "            so_version = output_parts[2]\n",
    "        if os_name == \"Windows\":\n",
    "            output = os.popen(\"systeminfo\").read()\n",
    "\n",
    "            # Using regular expressions to extract the OS name and version\n",
    "            so = re.search(r'OS Name:\\s*(.*)', output).group(1)\n",
    "            so_version = re.search(r'OS Version:\\s*(.*)', output).group(1)\n",
    "\n",
    "        result = json.dumps({\n",
    "        'so': so,\n",
    "        'so_version': so_version\n",
    "        })\n",
    "\n",
    "        return result\n",
    "    \n",
    "    except Exception as e:\n",
    "        print(f\"Error: {e}\")\n",
    "        return None"
   ]
  },
  {
   "cell_type": "code",
   "execution_count": null,
   "metadata": {},
   "outputs": [],
   "source": [
    "print(get_software_version('Linux'))"
   ]
  },
  {
   "cell_type": "code",
   "execution_count": null,
   "metadata": {},
   "outputs": [],
   "source": [
    "def GetSoftwareList(so_name):\n",
    "    if so_name == \"Windows\":\n",
    "        # Execute the command to get the list of installed software (Windows case)\n",
    "        proc = subprocess.Popen(\"wmic product get name\", shell=True, stdout=subprocess.PIPE, stderr=subprocess.PIPE, text=True)\n",
    "    elif so_name == \"Linux\":\n",
    "        # Execute the command to get the list of installed software (Linux case)\n",
    "        proc = subprocess.Popen(\"dpkg -l | awk '{print $2}' | tail -n +6\", shell=True, stdout=subprocess.PIPE, stderr=subprocess.PIPE, text=True)\n",
    "\n",
    "    # Read the command output\n",
    "    stdout, stderr = proc.communicate()\n",
    "\n",
    "    # To list, split by product name\n",
    "    softwareList = stdout.splitlines()\n",
    "\n",
    "    return softwareList"
   ]
  },
  {
   "cell_type": "code",
   "execution_count": null,
   "metadata": {},
   "outputs": [],
   "source": [
    "print(GetSoftwareList('Linux'))"
   ]
  },
  {
   "cell_type": "code",
   "execution_count": null,
   "metadata": {},
   "outputs": [],
   "source": [
    "def GetVulnerabilityInfo(vulnId):\n",
    "    \"\"\"\n",
    "    Obtain the info provided by services.nvd.nist.gov about the vulnerability, then store the relevant info in a JSON\n",
    "    \n",
    "    Args: \n",
    "        vulnId: That's the vulnerability identifier for the endpoint request.\n",
    "\n",
    "    Returns:\n",
    "        vulnInfo: JSON that contains relevant info about the vulnerability.\n",
    "    \"\"\"\n",
    "    print('VulnName a pasar = '+ vulnId) \n",
    "    endPoint = f'https://services.nvd.nist.gov/rest/json/cves/2.0?cveId={vulnId}'\n",
    "    headers = {\n",
    "        'apiKey': api_key_nist\n",
    "    }\n",
    "    infoVuln = requests.get(endPoint,headers = headers)\n",
    "    try:\n",
    "        infoVulnJSON = infoVuln.json()\n",
    "    except ValueError:\n",
    "        print('Error, respuesta recibida fue: ')\n",
    "        print(infoVuln.json())\n",
    "        return\n",
    "    infoVulnJSON = infoVulnJSON['vulnerabilities'][0]['cve']\n",
    "    cvssMetricInfo = {}\n",
    "    if 'cvssMetricV31' in infoVulnJSON['metrics']:\n",
    "        cvssMetricInfo = RestructureCvssMetrics(infoVulnJSON['metrics']['cvssMetricV31'],31)\n",
    "    elif 'cvssMetricV30' in infoVulnJSON['metrics']:\n",
    "        cvssMetricInfo = RestructureCvssMetrics(infoVulnJSON['metrics']['cvssMetricV30'],30)\n",
    "    elif 'cvssMetricV2' in infoVulnJSON['metrics']:\n",
    "        cvssMetricInfo = RestructureCvssMetrics(infoVulnJSON['metrics']['cvssMetricV2'],2)\n",
    "    \n",
    "    vulnInfo = {\n",
    "        \"CVE_ID\": vulnId,\n",
    "        \"description\": infoVulnJSON['descriptions'][0]['value'],\n",
    "        \"vulnStatus\": infoVulnJSON['vulnStatus'],\n",
    "        \"metrics\": cvssMetricInfo,\n",
    "    }\n",
    "    return vulnInfo"
   ]
  },
  {
   "cell_type": "code",
   "execution_count": null,
   "metadata": {},
   "outputs": [],
   "source": [
    "def RestructureCvssMetrics(infoVulnJSON, metricVersion):\n",
    "    \"\"\"\n",
    "    Store in a JSON (cvssMetricInfo) the organized data about cvss metrics\n",
    "    \n",
    "    Args: \n",
    "        infoVulnJSON: JSON with data still unorganized \n",
    "        metricVersion: especifies the cvss version which was calculated the metrics\n",
    "\n",
    "    Returns:\n",
    "        JSON: organized data about cvss metrics which contains:\n",
    "            baseSeverity - baseScore - vertorString and its details - exploitabilityScore - impactScore - type - version cvss Metrics\n",
    "    \"\"\"\n",
    "    cvssMetricInfo = {}\n",
    "    cvssMetricInfo['baseScore'] = infoVulnJSON[0]['cvssData']['baseScore']\n",
    "    # Depends cvss version used for metrics the baseSeverity is in diferent JSON's place\n",
    "    if metricVersion == 31 or metricVersion == 30:\n",
    "        cvssMetricInfo['baseSeverity'] = infoVulnJSON[0]['cvssData']['baseSeverity']\n",
    "    else:\n",
    "        cvssMetricInfo['baseSeverity'] = infoVulnJSON[0]['baseSeverity']\n",
    "    # Remaining cvss metrics is equally located in any version\n",
    "    cvssMetricInfo['exploitabilityScore'] = infoVulnJSON[0]['exploitabilityScore']\n",
    "    cvssMetricInfo['impactScore'] = infoVulnJSON[0]['impactScore']\n",
    "    cvssMetricInfo['type'] = infoVulnJSON[0]['type']\n",
    "    cvssMetricInfo['cvssDetailedData'] = infoVulnJSON[0]['cvssData']\n",
    "    # Deleting repeated info\n",
    "    del cvssMetricInfo['cvssDetailedData']['baseScore']\n",
    "    if metricVersion == 31 or metricVersion == 30:\n",
    "        del cvssMetricInfo['cvssDetailedData']['baseSeverity']\n",
    "    # Return final restructured JSON\n",
    "    return cvssMetricInfo"
   ]
  },
  {
   "cell_type": "code",
   "execution_count": null,
   "metadata": {},
   "outputs": [],
   "source": [
    "def GetCVEPerSoftware(productName):\n",
    "    url = f\"https://www.cvedetails.com/api/v1/vulnerability/search?outputFormat=json&productName={productName}&pageNumber=1&resultsPerPage=10\"\n",
    "    \n",
    "    headers = {\n",
    "      'user-agent': 'Mozilla/5.0 (X11; Linux x86_64) AppleWebKit/537.36 (KHTML, like Gecko) Chrome/122.0.0.0 Safari/537.36 Edg/122.0.0.0',\n",
    "      'Authorization': f'Bearer {api_key_cvedetails}'\n",
    "    }\n",
    "    tryRequest = True\n",
    "    while(tryRequest):   \n",
    "        session = requests.Session()\n",
    "        response = session.get(url, headers=headers)\n",
    "        responseJSON = response.json()\n",
    "        if \"errors\" in responseJSON:\n",
    "            print(\"time exceded waiting 1 minute\")\n",
    "            time.sleep(60)\n",
    "        else:\n",
    "            print(\"cveList request of \" + productName + \" done\")\n",
    "            tryRequest = False\n",
    "    cveList = []\n",
    "    if len(responseJSON['results']) < 1:\n",
    "        return \"No vulnerabilities registered\"\n",
    "    for cve in responseJSON['results']:\n",
    "        cveInfo = GetVulnerabilityInfo(cve['cveId'])\n",
    "        cveAttackDetails = {k:v for k, v in cve.items() if k.startswith('is')}\n",
    "        cveInfo['AttackDetails'] = cveAttackDetails\n",
    "        cveList.append(cveInfo)\n",
    "\n",
    "    return cveList"
   ]
  },
  {
   "cell_type": "code",
   "execution_count": null,
   "metadata": {},
   "outputs": [],
   "source": [
    "def InsertInAtlas(results):\n",
    "    \"\"\"\n",
    "    Insert the results in the Atlas MongoDB\n",
    "    Args: results: List of JSONs with the info to insert\n",
    "    \"\"\"\n",
    "\n",
    "    client = pymongo.MongoClient(mongo_uri)\n",
    "    \n",
    "    # Selecciona la base de datos\n",
    "    db = client[\"DataScience\"]\n",
    "    \n",
    "    # Selecciona la colección\n",
    "    coleccion = db[\"SoftwareCVE\"]\n",
    "    \n",
    "    coleccion.insert_many(results)\n",
    "    print(\"Correctly Inserted\")"
   ]
  }
 ],
 "metadata": {
  "kernelspec": {
   "display_name": "Python 3",
   "language": "python",
   "name": "python3"
  },
  "language_info": {
   "codemirror_mode": {
    "name": "ipython",
    "version": 3
   },
   "file_extension": ".py",
   "mimetype": "text/x-python",
   "name": "python",
   "nbconvert_exporter": "python",
   "pygments_lexer": "ipython3",
   "version": "3.12.2"
  }
 },
 "nbformat": 4,
 "nbformat_minor": 2
}
