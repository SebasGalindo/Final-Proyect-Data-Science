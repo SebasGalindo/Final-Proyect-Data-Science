{
 "cells": [
  {
   "cell_type": "markdown",
   "metadata": {},
   "source": [
    "# **Proyecto Final Ciencia De Datos**\n",
    "## **Integrantes**:\n",
    "\n",
    "## John Sebastián Galindo Hernández\n",
    "## Miguel Ángel Moreno Beltrán\n",
    "\n",
    "## **Universidad de Cundinamarca**\n",
    "---\n",
    "### **Objetivo**\n",
    "\n",
    "##### Realizar un dashboard acerca de las vulnerabilidades que pueden presenar los sofwares instalados en las maquinas de los laboratorios de sistemas en la universidad de cundinamarca.\n"
   ]
  },
  {
   "cell_type": "markdown",
   "metadata": {},
   "source": [
    "### **Estructura JSON**"
   ]
  },
  {
   "cell_type": "markdown",
   "metadata": {},
   "source": [
    "#### Para el proyecto se considera manejar 3 colecciones (contendores) diferentes para mantener el codigo legible, sencillo y que permita el buen rendimiento.\n",
    "\n",
    "Para cada software se obtendrá la información de los ultimos 10 CVEs registrados."
   ]
  },
  {
   "cell_type": "markdown",
   "metadata": {
    "jp-MarkdownHeadingCollapsed": true
   },
   "source": [
    "#### **1. Coleccion para la maquina**"
   ]
  },
  {
   "cell_type": "markdown",
   "metadata": {},
   "source": [
    "**Nombre de la Colección:** Machines\n",
    "\n",
    "Esta colección almacenará toda la información relacionada con la maquina a la que se le van a a escanear los softwares. Entre los datos que se consideraron relevanes a guardar están:\n",
    "+ **id:** dirección mac de la maquina\n",
    "+ **so:** Sistema operativo de la maquina\n",
    "+ **soVersion:** Version del sistema operativo\n",
    "+ **scanDate:** Fecha del ultimo escaneo hecho\n",
    "+ **softwares:** Lista sobre los softwares que fueron encontrados en el escaneo"
   ]
  },
  {
   "cell_type": "code",
   "execution_count": 11,
   "metadata": {},
   "outputs": [
    {
     "data": {
      "text/plain": [
       "{'id': '00:1A:2B:3C:4D:5E',\n",
       " 'so': 'Windows',\n",
       " 'soVersion': 'Windows 10 pro',\n",
       " 'scanDate': '19-04-2024',\n",
       " 'softwares': ['Excel', 'Powerpoint', 'SQLServer', 'Cisco Packet Tracer']}"
      ]
     },
     "execution_count": 11,
     "metadata": {},
     "output_type": "execute_result"
    }
   ],
   "source": [
    "#EJEMPLO\n",
    "{\n",
    "    \"id\": \"00:1A:2B:3C:4D:5E\",\n",
    "    \"so\": \"Windows\",\n",
    "    \"soVersion\": \"Windows 10 pro\",\n",
    "    \"scanDate\": \"19-04-2024\",\n",
    "    \"softwares\": [\"Excel\", \"Powerpoint\", \"SQLServer\", \"Cisco Packet Tracer\"]\n",
    "}"
   ]
  },
  {
   "cell_type": "markdown",
   "metadata": {
    "jp-MarkdownHeadingCollapsed": true
   },
   "source": [
    "#### **2. Coleccion para los softwares**"
   ]
  },
  {
   "cell_type": "markdown",
   "metadata": {},
   "source": [
    "**Nombre de la Colección:** Softwares\n",
    "\n",
    "Esta colección almacenará toda la información relacionada con los softwares detectados en las maquinas. Entre los datos que se consideraron relevanes a guardar están:\n",
    "+ **id:** identificador unico (name+vendor)\n",
    "+ **name:** Nombre del software\n",
    "+ **vendor:** Nombre de la empresa que produce el software\n",
    "+ **scanDate:** Fecha del ultimo escaneo hecho\n",
    "+ **associatedMachines**: lista de las maquinas que tienen este software en su lista de softwares encontrados\n",
    "+ **cves:** Lista de los ids de las vulnerabilidades que fueron encontrados en la consulta del software"
   ]
  },
  {
   "cell_type": "code",
   "execution_count": null,
   "metadata": {},
   "outputs": [],
   "source": [
    "#EJEMPLO\n",
    "{\n",
    "    \"id\": \"ExcelMicrosoft\",\n",
    "    \"name\": \"Excel\",\n",
    "    \"vendor\": \"Microsoft\",\n",
    "    \"scanDate\": \"20-04-2024\",\n",
    "    \"asociatedMachines\": [\"00:1A:2B:3C:4D:5E\",\"00:1A:2F:3C:8D:5E\"],\n",
    "    \"cves\": [\"CVE-2024-1233\", \"CVE-2019-0708\"]\n",
    "}"
   ]
  },
  {
   "cell_type": "markdown",
   "metadata": {},
   "source": [
    "#### **3. Coleccion para los CVEs**"
   ]
  },
  {
   "cell_type": "markdown",
   "metadata": {},
   "source": [
    "**Nombre de la Colección:** Cves\n",
    "\n",
    "Esta colección almacenará toda la información relacionada con las vulnerabilidades obtenidas por software. Entre los datos que se consideraron relevanes a guardar están:\n",
    "+ **CVE_ID**: Identificador del cve\n",
    "+ **description:** Descripcion de la vulnerabilidad\n",
    "+ **vulnStatus**: Estado que tiene el cve, ayuda a identificar si ya fue analizado o esta en proceso\n",
    "+ **metrics**: Es un JSON con informacion acerca de las metricas cvss\n",
    "    + **baseScore**: Es el puntaje resultante del cvss\n",
    "    + **baseSeverity**: La serveridad que se le da a la vulnerabilidad en base del puntaje base\n",
    "    + **exploitabilitiScore**: El puntaje de la probabilidad con la que se puede explotar el software\n",
    "    + **impactScore**: Puntaje acerca de el impacto que puede generar esta vulnerabilidad en la maquina\n",
    "    + **cvssDetailedData**: Es un Json anidado que contiene toda la informacion proporcionada por el analisis cvss tales como la version de ese cvss, el string donde se resume toda las mediciones de los diferentes aspectos de la vulnerabilidad, y el dato especifico para cada parte escaneada en el cvss como la complejidad, los privilejgios requeridos, entre otros.\n",
    "+ **AttackDetails**: Es un JSON anidado con detalles sobre el ataque que se realiza con esa vulnerabilidad, estos se identifican con 1 si estan presentes o 0 si no tienen relacion con ese CVE, entre algunos de estos detalles esta el si es una corrupcion en la memoria, si es una inyección sql, una vulnerabilidad relacionada con ganar privilegios, entre otros."
   ]
  },
  {
   "cell_type": "code",
   "execution_count": null,
   "metadata": {},
   "outputs": [],
   "source": [
    " {\n",
    "    \"CVE_ID\": \"CVE-2023-3297\",\n",
    "    \"description\": \"In Ubuntu's accountsservice an unprivileged local attacker can trigger a use-after-free vulnerability in accountsservice by sending a D-Bus message to the accounts-daemon process.\",\n",
    "    \"vulnStatus\": \"Analyzed\",\n",
    "      \"metrics\": {\n",
    "        \"baseScore\": 7.8 ,\n",
    "        \"baseSeverity\": \"HIGH\",\n",
    "        \"exploitabilityScore\": 1.8,\n",
    "        \"impactScore\": 5.9,\n",
    "        \"cvssDetailedData\": {\n",
    "          \"version\": \"3.1\",\n",
    "          \"vectorString\": \"CVSS:3.1/AV:L/AC:L/PR:L/UI:N/S:U/C:H/I:H/A:H\",\n",
    "          \"attackVector\": \"LOCAL\",\n",
    "          \"attackComplexity\": \"LOW\",\n",
    "          \"privilegesRequired\": \"LOW\",\n",
    "          \"userInteraction\": \"NONE\",\n",
    "          \"scope\": \"UNCHANGED\",\n",
    "          \"confidentialityImpact\": \"HIGH\",\n",
    "          \"integrityImpact\": \"HIGH\",\n",
    "          \"availabilityImpact\": \"HIGH\"\n",
    "        }\n",
    "      },\n",
    "      \"AttackDetails\": {\n",
    "        \"isInCISAKEV\": \"0\",\n",
    "        \"isOverflow\": \"0\",\n",
    "        \"isMemoryCorruption\": \"1\",\n",
    "        \"isSqlInjection\": \"0\",\n",
    "        \"isXss\": \"0\",\n",
    "        \"isDirectoryTraversal\": \"0\",\n",
    "        \"isFileInclusion\": \"0\",\n",
    "        \"isCsrf\": \"0\",\n",
    "        \"isXxe\": \"0\",\n",
    "        \"isSsrf\": \"0\",\n",
    "        \"isOpenRedirect\": \"0\",\n",
    "        \"isInputValidation\": \"0\",\n",
    "        \"isCodeExecution\": \"0\",\n",
    "        \"isBypassSomething\": \"0\",\n",
    "        \"isGainPrivilege\": \"0\",\n",
    "        \"isDenialOfService\": \"0\",\n",
    "        \"isInformationLeak\": \"0\",\n",
    "        \"isUsedForRansomware\": \"0\"\n",
    "      }\n",
    "    }"
   ]
  },
  {
   "cell_type": "markdown",
   "metadata": {},
   "source": [
    "### **Consulta de APIs**"
   ]
  },
  {
   "cell_type": "markdown",
   "metadata": {},
   "source": [
    "Se consultaran 2 Apis principalmente:\n",
    "1. **CVE Details**: Se usará para conocer la información de un software y de las vulnerabilidades relacionadas a este.\n",
    "   \n",
    "   **Beneficios**: Permite complementar también la información de los cves con información detallada del ataque. Además gracias al funcionamieno de sus creditos por tiempo permite la automatización del proceso de consulta.\n",
    "   \n",
    "   **Costos:** Gratis con aproximadamente 5 consultas por minuto.\n",
    "   \n",
    "2. **Nist**: Se usará para conocer la información especifica de un CVE, permite la consulta con el id del CVE y brinda información relevane como la descripcion y todos los datos relacionados al puntaje cvss.\n",
    "\n",
    "   **Beneficios**: Tiene una facil consulta, permite crear suscripción de estudiante, tiene información clave que minimiza el codigo como la criticidd y la información especifica de cada parte tenida en cuenta en el análisis cvss.\n",
    "   \n",
    "   **Costos:** Suscripción de estudiante con correo institucional que permite 50 consultas por minuto ó Gratis con 5 consultas por minuto."
   ]
  },
  {
   "cell_type": "markdown",
   "metadata": {},
   "source": [
    "### **Graficas a Realizar**"
   ]
  },
  {
   "cell_type": "markdown",
   "metadata": {},
   "source": [
    "* Top vulnerabilidades\n",
    "* Top Software vulnerable\n",
    "* Top Cves by machine\n",
    "* Top software con los CVEs mas recientes\n",
    "* Maquinas con mas impact score\n",
    "* Tipo de ataque mas presentado\n",
    "* Torta por porcentaje de ataque de complejidad.\n",
    "* Torta por porcentaje por interaccion con el usuario.\n",
    "* Torta por porcentaje por privilegios requeridos"
   ]
  },
  {
   "cell_type": "code",
   "execution_count": null,
   "metadata": {},
   "outputs": [],
   "source": [
    " "
   ]
  }
 ],
 "metadata": {
  "kernelspec": {
   "display_name": "Python 3 (ipykernel)",
   "language": "python",
   "name": "python3"
  },
  "language_info": {
   "codemirror_mode": {
    "name": "ipython",
    "version": 3
   },
   "file_extension": ".py",
   "mimetype": "text/x-python",
   "name": "python",
   "nbconvert_exporter": "python",
   "pygments_lexer": "ipython3",
   "version": "3.11.8"
  }
 },
 "nbformat": 4,
 "nbformat_minor": 4
}
